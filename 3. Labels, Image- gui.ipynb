{
 "cells": [
  {
   "cell_type": "code",
   "execution_count": 34,
   "metadata": {},
   "outputs": [],
   "source": [
    "import tkinter as tk\n",
    "from tkinter import ttk\n",
    "\n",
    "# install pillow for images\n",
    "from PIL import Image, ImageTk\n",
    "\n",
    "# for nice looking font\n",
    "try:\n",
    "    from ctypes import windll\n",
    "    windll.shcore.SetProcessDpiAwareness(1)\n",
    "except:\n",
    "    pass\n",
    "\n",
    "root = tk.Tk()\n",
    "root.geometry (\"600x400\")\n",
    "root.resizable(False, False)\n",
    "root.title(\"Labels Example\")\n",
    "\n",
    "# label = ttk.Label(root, text=\"Hello\", padding=20)\n",
    "# # font with 2 parameter\n",
    "# label.config(font=(\"Segoe UI\", 20))\n",
    "# # pack() should always be at end\n",
    "# label.pack()\n",
    "\n",
    "image = Image.open(\"subs.png\").resize((350,350))\n",
    "photo = ImageTk.PhotoImage(image)\n",
    "\n",
    "label = ttk.Label(root, text=\"My Subscriber's count :\",image=photo, padding=5, compound = \"right\")\n",
    "label.config(font=(\"Segoe UI\", 10))\n",
    "label.pack()\n",
    "\n",
    "root.mainloop()"
   ]
  },
  {
   "cell_type": "code",
   "execution_count": null,
   "metadata": {},
   "outputs": [],
   "source": []
  }
 ],
 "metadata": {
  "kernelspec": {
   "display_name": "Python 3",
   "language": "python",
   "name": "python3"
  },
  "language_info": {
   "codemirror_mode": {
    "name": "ipython",
    "version": 3
   },
   "file_extension": ".py",
   "mimetype": "text/x-python",
   "name": "python",
   "nbconvert_exporter": "python",
   "pygments_lexer": "ipython3",
   "version": "3.8.5"
  }
 },
 "nbformat": 4,
 "nbformat_minor": 4
}
