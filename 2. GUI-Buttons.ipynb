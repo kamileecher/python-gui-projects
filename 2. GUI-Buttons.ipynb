{
 "cells": [
  {
   "cell_type": "code",
   "execution_count": 6,
   "metadata": {},
   "outputs": [],
   "source": [
    "import tkinter as tk\n",
    "from tkinter import ttk\n",
    "\n",
    "# for crisp screen\n",
    "try:\n",
    "    from ctypes import windll\n",
    "    windll.shcore.SetProcessDpiAwareness(1)\n",
    "except:\n",
    "    pass\n",
    "    \n",
    "    \n",
    "def sayHello():\n",
    "    print(\"Namaste!\")\n",
    "\n",
    "root = tk.Tk()\n",
    "\n",
    "hi_button = ttk.Button(root, text = \"Hello!\", command=sayHello, padding=(30, 10)).pack(side=\"left\", fill=\"both\")\n",
    "\n",
    "quit_button = ttk.Button(root, text = \"Quit!\", command=root.destroy, padding=(30, 10)).pack(side=\"left\", expand=True)\n",
    "\n",
    "root.mainloop()"
   ]
  },
  {
   "cell_type": "code",
   "execution_count": null,
   "metadata": {},
   "outputs": [],
   "source": []
  }
 ],
 "metadata": {
  "kernelspec": {
   "display_name": "Python 3",
   "language": "python",
   "name": "python3"
  },
  "language_info": {
   "codemirror_mode": {
    "name": "ipython",
    "version": 3
   },
   "file_extension": ".py",
   "mimetype": "text/x-python",
   "name": "python",
   "nbconvert_exporter": "python",
   "pygments_lexer": "ipython3",
   "version": "3.8.5"
  }
 },
 "nbformat": 4,
 "nbformat_minor": 4
}
