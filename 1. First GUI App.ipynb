{
 "cells": [
  {
   "cell_type": "code",
   "execution_count": 5,
   "metadata": {},
   "outputs": [],
   "source": [
    "import tkinter\n",
    "# themed tkinter component ttk\n",
    "from tkinter import ttk\n",
    "\n",
    "# for testing tkinter is installed or not\n",
    "tkinter._test()"
   ]
  },
  {
   "cell_type": "code",
   "execution_count": 4,
   "metadata": {},
   "outputs": [],
   "source": [
    "# creating tk object\n",
    "root = tk.Tk()\n",
    "# padding is left, right. top, bottom\n",
    "ttk.Label(root, text=\"My first GUI Application\", padding =(30, 10)).pack()\n",
    "# running tkinter\n",
    "root.mainloop()\n"
   ]
  },
  {
   "cell_type": "code",
   "execution_count": null,
   "metadata": {},
   "outputs": [],
   "source": []
  }
 ],
 "metadata": {
  "kernelspec": {
   "display_name": "Python 3",
   "language": "python",
   "name": "python3"
  }
 },
 "nbformat": 4,
 "nbformat_minor": 4
}
